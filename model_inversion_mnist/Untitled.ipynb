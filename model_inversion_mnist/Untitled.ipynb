{
 "cells": [
  {
   "cell_type": "code",
   "execution_count": null,
   "id": "adae6992",
   "metadata": {},
   "outputs": [],
   "source": [
    "# Model Inversion on MNIST using Label-only Attack\n",
    "\n",
    "This notebook demonstrates how to reconstruct MNIST images using four types of model inversion attacks (label-only, vector-based, score-based, one-hot) theo đúng bài báo “Label-only Model Inversion Attack: The Attack that Requires the Least”.\n"
   ]
  },
  {
   "cell_type": "code",
   "execution_count": null,
   "id": "ea3f2620",
   "metadata": {},
   "outputs": [],
   "source": [
    "# Step 1: Setup and Install Dependencies (chạy 1 lần)\n",
    "!pip install torch torchvision matplotlib scipy tqdm\n"
   ]
  },
  {
   "cell_type": "code",
   "execution_count": null,
   "id": "af274b12",
   "metadata": {},
   "outputs": [],
   "source": [
    "# Step 2: Imports và cấu hình\n",
    "import sys, os\n",
    "sys.path.append(os.getcwd())    # để import các file .py cùng thư mục\n",
    "\n",
    "import torch\n",
    "from torch.utils.data import DataLoader, Subset\n",
    "from torchvision import datasets, transforms\n",
    "import torch.nn as nn\n",
    "import torch.optim as optim\n",
    "\n",
    "from data_loader import load_mnist_data\n",
    "from utils import add_gaussian_noise, compute_error_rate, compute_mse, plot_comparison\n",
    "from phase1_vector_recovery import generate_confidence_vectors\n",
    "from phase2_train_attack_model import train_attack_model\n",
    "from phase3_reconstruct import reconstruct_images\n",
    "from phase4_evaluation import evaluate_reconstructions\n",
    "\n",
    "# Các attack helper (nếu cần debug riêng)\n",
    "from attacks.label_only_attack import train_shadow_model, recover_confidence_vector\n",
    "from attacks.vector_based_attack import get_confidence_vector\n",
    "from attacks.score_based_attack import get_score_based_vector\n",
    "from attacks.one_hot_attack import get_one_hot_vector\n"
   ]
  },
  {
   "cell_type": "code",
   "execution_count": null,
   "id": "077f3bcb",
   "metadata": {},
   "outputs": [],
   "source": [
    "# Step 3: Load MNIST Dataset\n",
    "train_set, test_set = load_mnist_data()\n",
    "print(f\"Training samples: {len(train_set)}, Test samples: {len(test_set)}\")\n"
   ]
  },
  {
   "cell_type": "code",
   "execution_count": null,
   "id": "5f163de3",
   "metadata": {},
   "outputs": [],
   "source": [
    "# Step 4: Build & Train a real Target CNN (thay vì DummyLinear)\n",
    "class TargetCNN(nn.Module):\n",
    "    def __init__(self, num_classes=10):\n",
    "        super().__init__()\n",
    "        self.features = nn.Sequential(\n",
    "            nn.Conv2d(1, 32, 3, padding=1), nn.BatchNorm2d(32), nn.ReLU(), nn.MaxPool2d(2),\n",
    "            nn.Conv2d(32,64,3,padding=1),     nn.BatchNorm2d(64), nn.ReLU(), nn.MaxPool2d(2),\n",
    "            nn.Conv2d(64,128,3,padding=1),    nn.BatchNorm2d(128),nn.ReLU(), nn.MaxPool2d(2)\n",
    "        )\n",
    "        self.classifier = nn.Sequential(\n",
    "            nn.Flatten(),\n",
    "            nn.Linear(128*3*3,256), nn.ReLU(),\n",
    "            nn.Linear(256,num_classes)\n",
    "        )\n",
    "    def forward(self,x):\n",
    "        return self.classifier(self.features(x))\n",
    "\n",
    "device = 'cuda' if torch.cuda.is_available() else 'cpu'\n",
    "target_model = TargetCNN().to(device)\n",
    "\n",
    "# chia data: 2% làm auxiliary, còn lại train target_model\n",
    "aux_frac = 0.02\n",
    "n_aux = int(len(train_set)*aux_frac)\n",
    "aux_indices = list(range(n_aux))\n",
    "aux_set    = Subset(train_set, aux_indices)\n",
    "target_set = Subset(train_set, list(range(n_aux, len(train_set))))\n",
    "\n",
    "loader_target = DataLoader(target_set, batch_size=128, shuffle=True)\n",
    "loader_aux    = DataLoader(aux_set, batch_size=n_aux, shuffle=False)\n",
    "loader_test   = DataLoader(test_set, batch_size=10000, shuffle=False)\n",
    "\n",
    "# huấn luyện TargetCNN\n",
    "opt = optim.Adam(target_model.parameters(), lr=1e-3)\n",
    "loss_fn = nn.CrossEntropyLoss()\n",
    "for ep in range(5):\n",
    "    target_model.train()\n",
    "    total_loss = 0\n",
    "    for imgs, lbls in loader_target:\n",
    "        imgs,lbls = imgs.to(device),lbls.to(device)\n",
    "        opt.zero_grad()\n",
    "        out = target_model(imgs)\n",
    "        loss = loss_fn(out,lbls)\n",
    "        loss.backward()\n",
    "        opt.step()\n",
    "        total_loss += loss.item()*imgs.size(0)\n",
    "    print(f\"[Target] Epoch {ep+1} loss = {total_loss/len(target_set):.4f}\")\n"
   ]
  },
  {
   "cell_type": "code",
   "execution_count": null,
   "id": "b1be0977",
   "metadata": {},
   "outputs": [],
   "source": [
    "# Step 5: Train Shadow Model & compute mu trên auxiliary set\n",
    "aux_images, aux_labels = next(iter(loader_aux))\n",
    "aux_images, aux_labels = aux_images.to(device), aux_labels.to(device)\n",
    "\n",
    "sigma = 0.1\n",
    "noisy_aux = add_gaussian_noise(aux_images, sigma).to(device)\n",
    "mu = compute_error_rate(target_model, noisy_aux, aux_labels, device)\n",
    "print(f\"Computed mu (error rate) = {mu:.4f}\")\n",
    "\n",
    "# shortcut train_shadow_model trên CPU tensors\n",
    "shadow_model = train_shadow_model(aux_images.cpu(), noisy_aux.cpu())\n",
    "print(\"Shadow model trained.\")\n"
   ]
  },
  {
   "cell_type": "code",
   "execution_count": null,
   "id": "8b163a64",
   "metadata": {},
   "outputs": [],
   "source": [
    "# Step 6: Generate Confidence Vectors for all 4 attacks\n",
    "images_tensor = aux_images.cpu()\n",
    "labels_tensor = aux_labels.cpu()\n",
    "\n",
    "methods = ['label_only','vector_based','score_based','one_hot']\n",
    "vectors_by_method = {}\n",
    "targets_by_method = {}\n",
    "\n",
    "for m in methods:\n",
    "    if m=='label_only':\n",
    "        vecs, tars = generate_confidence_vectors(\n",
    "            images_tensor, labels_tensor, target_model,\n",
    "            method=m, shadow_model=shadow_model, mu=mu,\n",
    "            num_classes=10, sigma=sigma, device=device\n",
    "        )\n",
    "    else:\n",
    "        vecs, tars = generate_confidence_vectors(\n",
    "            images_tensor, labels_tensor, target_model,\n",
    "            method=m, num_classes=10, device=device\n",
    "        )\n",
    "    vectors_by_method[m] = vecs    # Tensor [N,10]\n",
    "    targets_by_method[m] = tars    # Tensor [N,1,28,28]\n",
    "    print(f\"{m}: vectors {vecs.shape}, targets {tars.shape}\")\n"
   ]
  },
  {
   "cell_type": "code",
   "execution_count": null,
   "id": "cc414a1e",
   "metadata": {},
   "outputs": [],
   "source": [
    "# Step 7: Train Attack Models\n",
    "attack_models = {}\n",
    "for m in methods:\n",
    "    vecs = vectors_by_method[m]\n",
    "    imgs = targets_by_method[m]\n",
    "    print(f\"[Attack] Training {m} with {vecs.shape[0]} samples...\")\n",
    "    attack_models[m] = train_attack_model(vecs, imgs, epochs=100)\n",
    "print(\"All attack models done.\")\n"
   ]
  },
  {
   "cell_type": "code",
   "execution_count": null,
   "id": "a83287cd",
   "metadata": {},
   "outputs": [],
   "source": [
    "# Step 8: Reconstruct first 10 test images\n",
    "test_imgs, test_lbls = next(iter(loader_test))\n",
    "test_imgs = test_imgs[:10].to(device); test_lbls = test_lbls[:10]\n",
    "\n",
    "recon_dict = {}\n",
    "for m in methods:\n",
    "    vecs = []\n",
    "    for i in range(10):\n",
    "        x = test_imgs[i]\n",
    "        if m=='label_only':\n",
    "            vec = recover_confidence_vector(shadow_model, mu, test_lbls[i].item(),\n",
    "                                            num_classes=10, sigma=sigma)\n",
    "        elif m=='vector_based':\n",
    "            vec = get_confidence_vector(target_model, x)\n",
    "        elif m=='score_based':\n",
    "            vec = get_score_based_vector(target_model, x)\n",
    "        else:\n",
    "            vec = get_one_hot_vector(target_model, x)\n",
    "        vecs.append(vec.cpu())\n",
    "    vecs = torch.stack(vecs)\n",
    "    recon = reconstruct_images(attack_models[m], vecs.to(device))\n",
    "    recon_dict[m] = recon.cpu()\n",
    "print(\"Reconstruction finished.\")\n"
   ]
  },
  {
   "cell_type": "code",
   "execution_count": null,
   "id": "a2dd783e",
   "metadata": {},
   "outputs": [],
   "source": [
    "# Step 9: Evaluate & Plot Comparison\n",
    "# Ground truth first 10:\n",
    "ground = test_imgs.cpu()\n",
    "labels_map = dict(label_only=\"Label-only\", vector_based=\"Vector-based\",\n",
    "                  score_based=\"Score-based\", one_hot=\"One-hot\")\n",
    "\n",
    "plt_dict = {labels_map[m]: recon_dict[m] for m in methods}\n",
    "plot_comparison(ground, plt_dict, title=\"Model Inversion Comparison\")\n"
   ]
  },
  {
   "cell_type": "code",
   "execution_count": null,
   "id": "1da17772",
   "metadata": {},
   "outputs": [],
   "source": []
  }
 ],
 "metadata": {
  "kernelspec": {
   "display_name": "Python (with torch)",
   "language": "python",
   "name": "torch_env"
  },
  "language_info": {
   "codemirror_mode": {
    "name": "ipython",
    "version": 3
   },
   "file_extension": ".py",
   "mimetype": "text/x-python",
   "name": "python",
   "nbconvert_exporter": "python",
   "pygments_lexer": "ipython3",
   "version": "3.12.7"
  }
 },
 "nbformat": 4,
 "nbformat_minor": 5
}
